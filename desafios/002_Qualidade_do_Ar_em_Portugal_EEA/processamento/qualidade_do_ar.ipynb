{
 "cells": [
  {
   "cell_type": "code",
   "execution_count": 1,
   "id": "db461190",
   "metadata": {},
   "outputs": [],
   "source": [
    "import pandas as pd\n",
    "import altair as alt\n",
    "from altair import datum\n",
    "import numpy as np\n"
   ]
  },
  {
   "cell_type": "code",
   "execution_count": 2,
   "id": "1ea0f96f",
   "metadata": {},
   "outputs": [],
   "source": [
    "data_media = pd.read_csv(\"all_polutants_average.csv\")\n",
    "data_min= pd.read_csv(\"all_polutants_min.csv\")\n",
    "data_max =pd.read_csv(\"all_polutants_max.csv\")"
   ]
  },
  {
   "cell_type": "code",
   "execution_count": 3,
   "id": "946b97e4",
   "metadata": {},
   "outputs": [],
   "source": [
    "data_media.columns = data_media.columns.str.replace(\" \", \"_\")\n",
    "data_min.columns = data_min.columns.str.replace(\" \", \"_\")\n",
    "data_max.columns = data_max.columns.str.replace(\" \", \"_\")\n"
   ]
  },
  {
   "cell_type": "code",
   "execution_count": 4,
   "id": "c4861c90",
   "metadata": {},
   "outputs": [],
   "source": [
    "data_list = [data_media, data_min, data_max]\n",
    "polutants_list = [\"PM10\", \"PM2.5\", \"O3\", \"NO2\", \"SO2\"]"
   ]
  },
  {
   "cell_type": "code",
   "execution_count": 5,
   "id": "608ffe52",
   "metadata": {},
   "outputs": [],
   "source": [
    "def apply_descricao(poluente):\n",
    "    if poluente == 'PM10':\n",
    "        return 'Partículas de diâmetro igual ou inferior a 10 µm'\n",
    "    elif poluente == 'PM2.5':\n",
    "        return 'Partículas de diâmetro igual ou inferior a 2.5 µm'\n",
    "    elif poluente == 'O3':\n",
    "        return 'Ozono'\n",
    "    elif poluente == 'NO2':\n",
    "        return 'Dióxido de azoto'\n",
    "    elif poluente == 'SO2':\n",
    "        return 'Dióxido de enxofre'\n",
    "    return ''"
   ]
  },
  {
   "cell_type": "code",
   "execution_count": 6,
   "id": "511360cc",
   "metadata": {},
   "outputs": [],
   "source": [
    "def apply_level (poluente, nivel_poluicao):\n",
    "    if (poluente == 'PM10'):\n",
    "        if (nivel_poluicao <= 20):\n",
    "            return \"Muito Bom\"\n",
    "        elif (nivel_poluicao <=35):\n",
    "            return \"Bom\"\n",
    "        elif (nivel_poluicao <= 50):\n",
    "            return \"Médio\"\n",
    "        elif (nivel_poluicao <= 100):\n",
    "            return \"Fraco\"\n",
    "        elif (nivel_poluicao <=1200):\n",
    "            return \"Mau\"\n",
    "    elif (poluente == \"PM2.5\"):\n",
    "        if (nivel_poluicao <= 10):\n",
    "            return \"Muito Bom\"\n",
    "        elif (nivel_poluicao <=20):\n",
    "            return \"Bom\"\n",
    "        elif (nivel_poluicao <= 25):\n",
    "            return \"Médio\"\n",
    "        elif (nivel_poluicao <= 50):\n",
    "            return \"Fraco\"\n",
    "        elif (nivel_poluicao <= 800):\n",
    "            return \"Mau\"\n",
    "    elif (poluente == \"NO2\"):\n",
    "        if (nivel_poluicao <= 40):\n",
    "            return \"Muito Bom\"\n",
    "        elif (nivel_poluicao <=100):\n",
    "            return \"Bom\"\n",
    "        elif (nivel_poluicao <= 200):\n",
    "            return \"Médio\"\n",
    "        elif (nivel_poluicao <= 400):\n",
    "            return \"Fraco\"\n",
    "        elif (nivel_poluicao <= 1000):\n",
    "            return \"Mau\"\n",
    "    elif (poluente == \"O3\"):\n",
    "        if (nivel_poluicao <= 80):\n",
    "            return \"Muito Bom\"\n",
    "        elif (nivel_poluicao <=100):\n",
    "            return \"Bom\"\n",
    "        elif (nivel_poluicao <= 180):\n",
    "            return \"Médio\"\n",
    "        elif (nivel_poluicao <= 240):\n",
    "            return \"Fraco\"\n",
    "        elif (nivel_poluicao <= 600):\n",
    "            return \"Mau\"\n",
    "    elif (poluente == \"SO2\"):\n",
    "        if (nivel_poluicao <= 100):\n",
    "            return \"Muito Bom\"\n",
    "        elif (nivel_poluicao <=200):\n",
    "            return \"Bom\"\n",
    "        elif (nivel_poluicao <= 350):\n",
    "            return \"Médio\"\n",
    "        elif (nivel_poluicao <= 500):\n",
    "            return \"Fraco\"\n",
    "        elif (nivel_poluicao <= 1250):\n",
    "            return \"Mau\" "
   ]
  },
  {
   "cell_type": "code",
   "execution_count": 33,
   "id": "890d56ba",
   "metadata": {},
   "outputs": [],
   "source": [
    "def transform_and_translate (data_list) :\n",
    "    data_ = [];\n",
    "    for data in data_list:\n",
    "        dataset = data.drop(columns=['Air_Quality_Network','Air_Quality_Network_Name', 'Air_Quality_Station_EoI_Code', 'Sampling_Point_Id','Air_Pollutant_Description','Data_Aggregation_Process_Id', 'Source_Of_Data_Flow', 'Verification', 'City_Code', 'Calculation_Time', 'Country', 'Data_Coverage'])\n",
    "        dataset = dataset[dataset.Air_Pollutant.isin(polutants_list)]\n",
    "        if dataset[\"Data_Aggregation_Process\"].str.contains(\"Annual mean / 1 calendar year\").any():\n",
    "            dataset[\"link_tabela_EEA\"] = \"https://discomap.eea.europa.eu/App/AirQualityStatistics/index.html?Country=Portugal&DataAggregationProcess=Annual mean / 1 calendar year\"\n",
    "        elif dataset[\"Data_Aggregation_Process\"].str.contains(\"1 year day max\").any():\n",
    "            dataset[\"link_tabela_EEA\"] = \"https://discomap.eea.europa.eu/App/AirQualityStatistics/index.html?Country=Portugal&DataAggregationProcess=1 year day max\"\n",
    "        else:\n",
    "            dataset[\"link_tabela_EEA\"] = \"https://discomap.eea.europa.eu/App/AirQualityStatistics/index.html?Country=Portugal&DataAggregationProcess=1 year day min\"\n",
    "        dataset.rename(columns={\"Country\" :\"país\" , \n",
    "                                \"Air_Quality_Station_Name\": \"nome_estacao\",\n",
    "                                \"Air_Pollutant\" : \"poluente\",\n",
    "                                \"Data_Aggregation_Process\" : \"metrica\",\n",
    "                                \"Year\" : \"ano\",\n",
    "                                \"Air_Pollution_Level\" : \"nível_de_poluicao\",\n",
    "                                \"Unit_Of_Air_Pollution_Level\" : \"unidade_de_nivel_de_poluicao\",\n",
    "                                #\"Data_Coverage\" : \"cobertura_dos_dados\",\n",
    "                                \"Air_Quality_Station_Type\":\"tipo_de_estacao\",\n",
    "                                \"Air_Quality_Station_Area\" : \"tipo_de_area\",\n",
    "                                \"Longitude\" : \"longitude\",\n",
    "                                \"Latitude\" : \"latitude\",\n",
    "                                \"Altitude\" : \"altitude\",\n",
    "                                \"City\" : \"cidade\",\n",
    "                                \"City_Population\" : \"populacao_da_cidade\",\n",
    "                                #\"Calculation_Time\" : \"periodo_de_calculo\",\n",
    "                                \"Link_to_raw_data_(only_E1a/validated_data_from_AQ_e-Reporting)\" : \"link_dados_raw\"\n",
    "                               }, inplace=True)\n",
    "        dataset[\"metrica\"] = dataset.metrica.str.replace(\"Annual mean / 1 calendar year\", \"Média anual\")\n",
    "        dataset[\"metrica\"] = dataset.metrica.str.replace(\"1 year day max\", \"Máximo diário anual\")\n",
    "        dataset[\"metrica\"] = dataset.metrica.str.replace(\"1 year day min\", \"Mínimo diário anual\")\n",
    "        dataset[\"tipo_de_estacao\"] = dataset.tipo_de_estacao.str.replace(\"Background\", \"Fundo\")\n",
    "        dataset[\"tipo_de_estacao\"] = dataset.tipo_de_estacao.str.replace(\"Traffic\", \"Tráfego\")\n",
    "        dataset[\"tipo_de_estacao\"] = dataset.tipo_de_estacao.str.replace(\"Industrial\", \"Industrial\")\n",
    "        dataset[\"tipo_de_estacao\"] = dataset.tipo_de_estacao.str.replace(\"Unknown\", \"Desconhecido\")\n",
    "        dataset[\"tipo_de_area\"] = dataset.tipo_de_area.str.lower()\n",
    "        dataset[\"tipo_de_area\"] = dataset.tipo_de_area.str.replace(\"urban\", \"urbano\")\n",
    "        dataset['poluente_descricao'] = dataset['poluente'].apply(apply_descricao)\n",
    "        dataset[\"indice_qualidade_do_ar\"] = dataset.apply(lambda x: apply_level(x.poluente, x.nível_de_poluicao), axis=1)\n",
    "        dataset = dataset.dropna(subset=['nome_estacao'])\n",
    "        data_.append(dataset)\n",
    "    final_dataset = pd.concat(data_)\n",
    "    return final_dataset\n",
    "                   \n",
    "                    \n",
    "                    "
   ]
  },
  {
   "cell_type": "code",
   "execution_count": 34,
   "id": "7827e7eb",
   "metadata": {},
   "outputs": [],
   "source": [
    "dataset = transform_and_translate(data_list).reset_index(drop=True)\n",
    "dataset.to_csv(\"qualidade_do_ar.csv\")"
   ]
  },
  {
   "cell_type": "code",
   "execution_count": null,
   "id": "56483403",
   "metadata": {},
   "outputs": [],
   "source": []
  }
 ],
 "metadata": {
  "kernelspec": {
   "display_name": "Python 3 (ipykernel)",
   "language": "python",
   "name": "python3"
  },
  "language_info": {
   "codemirror_mode": {
    "name": "ipython",
    "version": 3
   },
   "file_extension": ".py",
   "mimetype": "text/x-python",
   "name": "python",
   "nbconvert_exporter": "python",
   "pygments_lexer": "ipython3",
   "version": "3.7.12"
  }
 },
 "nbformat": 4,
 "nbformat_minor": 5
}
