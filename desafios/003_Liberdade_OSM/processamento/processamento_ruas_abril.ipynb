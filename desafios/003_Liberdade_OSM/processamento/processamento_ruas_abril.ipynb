{
 "cells": [
  {
   "cell_type": "code",
   "execution_count": null,
   "metadata": {},
   "outputs": [],
   "source": [
    "import geopandas as gpd\n",
    "import pygeos as pygeos\n",
    "\n",
    "from geopy import distance\n",
    "from sklearn.preprocessing import LabelEncoder\n",
    "\n",
    "import pandas as pd\n",
    "from simpledbf import Dbf5"
   ]
  },
  {
   "cell_type": "code",
   "execution_count": null,
   "metadata": {},
   "outputs": [],
   "source": [
    "def calc_dist(df):\n",
    "    x, y = df['centroid_x'], df['centroid_y']\n",
    "    \n",
    "    x_nn, y_nn = df['nn_centroid_x'], df['nn_centroid_y']\n",
    "    \n",
    "    return distance.distance((y,x), (y_nn, x_nn)).meters"
   ]
  },
  {
   "cell_type": "code",
   "execution_count": null,
   "metadata": {},
   "outputs": [],
   "source": [
    "roads_shp = \"portugal-latest-free.shp 2/gis_osm_roads_free_1.shp\""
   ]
  },
  {
   "cell_type": "code",
   "execution_count": null,
   "metadata": {},
   "outputs": [],
   "source": [
    "roads = gpd.read_file(roads_shp)"
   ]
  },
  {
   "cell_type": "code",
   "execution_count": null,
   "metadata": {},
   "outputs": [],
   "source": [
    "freedom_roads = roads[(roads.name.str.contains(\"25 de Abril\")) | (roads.name.str.contains(\"Liberdade\")) | (roads.name.str.contains(\"Salgueiro Maia\")) | (roads.name.str.contains(\"Capitães de Abril\"))]"
   ]
  },
  {
   "cell_type": "code",
   "execution_count": null,
   "metadata": {},
   "outputs": [],
   "source": [
    "\n",
    "df2 = freedom_roads[['osm_id', 'name', 'geometry']]\n",
    "df2 = df2.rename(columns={'name': 'rua'})"
   ]
  },
  {
   "cell_type": "code",
   "execution_count": null,
   "metadata": {},
   "outputs": [],
   "source": [
    "df2.head(3)"
   ]
  },
  {
   "cell_type": "code",
   "execution_count": null,
   "metadata": {},
   "outputs": [],
   "source": [
    "concelhos = gpd.read_file('concelhos-shapefile/concelhos.shp', SHAPE_RESTORE_SHX='YES')\n",
    "\n",
    "concelhos = concelhos.rename(columns={'NAME_2': 'concelho'})\n",
    "\n",
    "df2['centroid_json'] = df2.geometry.apply(lambda x: x.centroid)\n",
    "df2 = df2.sjoin(concelhos[['concelho', 'geometry']], how=\"left\")"
   ]
  },
  {
   "cell_type": "code",
   "execution_count": null,
   "metadata": {},
   "outputs": [],
   "source": [
    "freguesias = gpd.read_file('cont-aad-caop2017/Cont_AAD_CAOP2017.shp', SHAPE_RESTORE_SHX='YES')"
   ]
  },
  {
   "cell_type": "code",
   "execution_count": null,
   "metadata": {},
   "outputs": [],
   "source": [
    "df2 = df2.drop(columns=['index_right'])"
   ]
  },
  {
   "cell_type": "code",
   "execution_count": null,
   "metadata": {},
   "outputs": [],
   "source": [
    "freguesias.to_crs(epsg=4326, inplace=True)"
   ]
  },
  {
   "cell_type": "code",
   "execution_count": null,
   "metadata": {},
   "outputs": [],
   "source": [
    "df2 = df2.sjoin(freguesias[['Freguesia', 'geometry']], how=\"left\")"
   ]
  },
  {
   "cell_type": "code",
   "execution_count": null,
   "metadata": {},
   "outputs": [],
   "source": [
    "# Spatial join leading to some duplicates\n",
    "df2 = df2.drop_duplicates('osm_id')"
   ]
  },
  {
   "cell_type": "code",
   "execution_count": null,
   "metadata": {},
   "outputs": [],
   "source": [
    "df2['centroid_x'] = df2.geometry.apply(lambda x: x.centroid.x)\n",
    "df2['centroid_y'] = df2.geometry.apply(lambda x: x.centroid.y)"
   ]
  },
  {
   "cell_type": "code",
   "execution_count": null,
   "metadata": {},
   "outputs": [],
   "source": [
    "df2.Freguesia = df2.Freguesia.fillna('')"
   ]
  },
  {
   "cell_type": "code",
   "execution_count": null,
   "metadata": {},
   "outputs": [],
   "source": [
    "df2.head(3)"
   ]
  },
  {
   "cell_type": "code",
   "execution_count": null,
   "metadata": {},
   "outputs": [],
   "source": [
    "# m = folium.Map(location=[39.9, -8.22])\n",
    "\n",
    "#for i, row in df2.iterrows():\n",
    "#    folium.Marker([row['centroid_y'], row['centroid_x']]).add_to(m)\n"
   ]
  },
  {
   "cell_type": "code",
   "execution_count": null,
   "metadata": {},
   "outputs": [],
   "source": [
    "df2['rua_freguesia_concelho'] = df2['rua'] + \"_\" +  df2['Freguesia'] + \"_\" + df2['concelho']\n",
    "df2"
   ]
  },
  {
   "cell_type": "code",
   "execution_count": null,
   "metadata": {},
   "outputs": [],
   "source": [
    "le = LabelEncoder()\n",
    "df2['unique_index'] = le.fit_transform(df2.rua_freguesia_concelho)\n",
    "df2 = df2.drop(columns=['centroid_json'])\n",
    "df2"
   ]
  },
  {
   "cell_type": "code",
   "execution_count": null,
   "metadata": {},
   "outputs": [],
   "source": [
    "df2.to_file('ruas_abril.geojson', driver='GeoJSON')"
   ]
  },
  {
   "cell_type": "code",
   "execution_count": null,
   "metadata": {},
   "outputs": [],
   "source": []
  }
 ],
 "metadata": {
  "kernelspec": {
   "display_name": "Python 3 (ipykernel)",
   "language": "python",
   "name": "python3"
  },
  "language_info": {
   "codemirror_mode": {
    "name": "ipython",
    "version": 3
   },
   "file_extension": ".py",
   "mimetype": "text/x-python",
   "name": "python",
   "nbconvert_exporter": "python",
   "pygments_lexer": "ipython3",
   "version": "3.7.12"
  }
 },
 "nbformat": 4,
 "nbformat_minor": 4
}
