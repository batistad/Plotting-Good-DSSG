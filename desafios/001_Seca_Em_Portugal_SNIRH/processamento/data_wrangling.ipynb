{
 "cells": [
  {
   "cell_type": "code",
   "execution_count": 43,
   "id": "d4f25943",
   "metadata": {},
   "outputs": [],
   "source": [
    "import pandas as pd\n",
    "import numpy as np\n",
    "from datetime import datetime\n",
    "\n",
    "pd.set_option('display.max_rows', 20000)\n",
    "pd.set_option('display.max_columns', 4000)\n"
   ]
  },
  {
   "cell_type": "code",
   "execution_count": 210,
   "id": "2bff551c",
   "metadata": {},
   "outputs": [],
   "source": [
    "links_resumo_por_bacia_pct = [\"https://snirh.apambiente.pt/snirh/_dadossintese/albufeiras/tabelas/tabelageral.php?percOUvolum=0&anohi=2021&mes=09&bacia=&albuf=&albuftblgeralopcao=&zonas=\", \n",
    "\"https://snirh.apambiente.pt/snirh/_dadossintese/albufeiras/tabelas/tabelageral.php?percOUvolum=0&anohi=2020&mes=09&bacia=&albuf=&albuftblgeralopcao=&zonas=\", \n",
    "\"https://snirh.apambiente.pt/snirh/_dadossintese/albufeiras/tabelas/tabelageral.php?percOUvolum=0&anohi=2019&mes=09&bacia=&albuf=&albuftblgeralopcao=&zonas=\", \n",
    "\"https://snirh.apambiente.pt/snirh/_dadossintese/albufeiras/tabelas/tabelageral.php?percOUvolum=0&anohi=2018&mes=09&bacia=&albuf=&albuftblgeralopcao=&zonas=\", \n",
    "\"https://snirh.apambiente.pt/snirh/_dadossintese/albufeiras/tabelas/tabelageral.php?percOUvolum=0&anohi=2017&mes=09&bacia=&albuf=&albuftblgeralopcao=&zonas=\", \n",
    "\"https://snirh.apambiente.pt/snirh/_dadossintese/albufeiras/tabelas/tabelageral.php?percOUvolum=0&anohi=2016&mes=09&bacia=&albuf=&albuftblgeralopcao=&zonas=\", \n",
    "\"https://snirh.apambiente.pt/snirh/_dadossintese/albufeiras/tabelas/tabelageral.php?percOUvolum=0&anohi=2015&mes=09&bacia=&albuf=&albuftblgeralopcao=&zonas=\", \n",
    "\"https://snirh.apambiente.pt/snirh/_dadossintese/albufeiras/tabelas/tabelageral.php?percOUvolum=0&anohi=2014&mes=09&bacia=&albuf=&albuftblgeralopcao=&zonas=\", \n",
    "\"https://snirh.apambiente.pt/snirh/_dadossintese/albufeiras/tabelas/tabelageral.php?percOUvolum=0&anohi=2013&mes=09&bacia=&albuf=&albuftblgeralopcao=&zonas=\", \n",
    "\"https://snirh.apambiente.pt/snirh/_dadossintese/albufeiras/tabelas/tabelageral.php?percOUvolum=0&anohi=2012&mes=09&bacia=&albuf=&albuftblgeralopcao=&zonas=\", \n",
    "\"https://snirh.apambiente.pt/snirh/_dadossintese/albufeiras/tabelas/tabelageral.php?percOUvolum=0&anohi=2011&mes=09&bacia=&albuf=&albuftblgeralopcao=&zonas=\", \n",
    "\"https://snirh.apambiente.pt/snirh/_dadossintese/albufeiras/tabelas/tabelageral.php?percOUvolum=0&anohi=2010&mes=09&bacia=&albuf=&albuftblgeralopcao=&zonas=\", \n",
    "\"https://snirh.apambiente.pt/snirh/_dadossintese/albufeiras/tabelas/tabelageral.php?percOUvolum=0&anohi=2009&mes=09&bacia=&albuf=&albuftblgeralopcao=&zonas=\", \n",
    "\"https://snirh.apambiente.pt/snirh/_dadossintese/albufeiras/tabelas/tabelageral.php?percOUvolum=0&anohi=2008&mes=09&bacia=&albuf=&albuftblgeralopcao=&zonas=\", \n",
    "\"https://snirh.apambiente.pt/snirh/_dadossintese/albufeiras/tabelas/tabelageral.php?percOUvolum=0&anohi=2007&mes=09&bacia=&albuf=&albuftblgeralopcao=&zonas=\", \n",
    "\"https://snirh.apambiente.pt/snirh/_dadossintese/albufeiras/tabelas/tabelageral.php?percOUvolum=0&anohi=2006&mes=09&bacia=&albuf=&albuftblgeralopcao=&zonas=\", \n",
    "\"https://snirh.apambiente.pt/snirh/_dadossintese/albufeiras/tabelas/tabelageral.php?percOUvolum=0&anohi=2005&mes=09&bacia=&albuf=&albuftblgeralopcao=&zonas=\", \n",
    "\"https://snirh.apambiente.pt/snirh/_dadossintese/albufeiras/tabelas/tabelageral.php?percOUvolum=0&anohi=2004&mes=09&bacia=&albuf=&albuftblgeralopcao=&zonas=\", \n",
    "\"https://snirh.apambiente.pt/snirh/_dadossintese/albufeiras/tabelas/tabelageral.php?percOUvolum=0&anohi=2003&mes=09&bacia=&albuf=&albuftblgeralopcao=&zonas=\", \n",
    "\"https://snirh.apambiente.pt/snirh/_dadossintese/albufeiras/tabelas/tabelageral.php?percOUvolum=0&anohi=2002&mes=09&bacia=&albuf=&albuftblgeralopcao=&zonas=\", \n",
    "\"https://snirh.apambiente.pt/snirh/_dadossintese/albufeiras/tabelas/tabelageral.php?percOUvolum=0&anohi=2001&mes=09&bacia=&albuf=&albuftblgeralopcao=&zonas=\", \n",
    "\"https://snirh.apambiente.pt/snirh/_dadossintese/albufeiras/tabelas/tabelageral.php?percOUvolum=0&anohi=2000&mes=09&bacia=&albuf=&albuftblgeralopcao=&zonas=\"\n",
    "]"
   ]
  },
  {
   "cell_type": "code",
   "execution_count": 211,
   "id": "f9d84049",
   "metadata": {},
   "outputs": [],
   "source": [
    "links_resumo_por_bacia_metro = [\"https://snirh.apambiente.pt/snirh/_dadossintese/albufeiras/tabelas/tabelageral.php?albuftblgeralopcao=2&percOUvolum=2&anohi=2021&mes=09&bacia=&albuf=\",\n",
    "\"https://snirh.apambiente.pt/snirh/_dadossintese/albufeiras/tabelas/tabelageral.php?albuftblgeralopcao=2&percOUvolum=2&anohi=2020&mes=09&bacia=&albuf=\",\n",
    "\"https://snirh.apambiente.pt/snirh/_dadossintese/albufeiras/tabelas/tabelageral.php?albuftblgeralopcao=2&percOUvolum=2&anohi=2019&mes=09&bacia=&albuf=\",\n",
    "\"https://snirh.apambiente.pt/snirh/_dadossintese/albufeiras/tabelas/tabelageral.php?albuftblgeralopcao=2&percOUvolum=2&anohi=2018&mes=09&bacia=&albuf=\",\n",
    "\"https://snirh.apambiente.pt/snirh/_dadossintese/albufeiras/tabelas/tabelageral.php?albuftblgeralopcao=2&percOUvolum=2&anohi=2017&mes=09&bacia=&albuf=\",\n",
    "\"https://snirh.apambiente.pt/snirh/_dadossintese/albufeiras/tabelas/tabelageral.php?albuftblgeralopcao=2&percOUvolum=2&anohi=2016&mes=09&bacia=&albuf=\",\n",
    "\"https://snirh.apambiente.pt/snirh/_dadossintese/albufeiras/tabelas/tabelageral.php?albuftblgeralopcao=2&percOUvolum=2&anohi=2015&mes=09&bacia=&albuf=\",\n",
    "\"https://snirh.apambiente.pt/snirh/_dadossintese/albufeiras/tabelas/tabelageral.php?albuftblgeralopcao=2&percOUvolum=2&anohi=2014&mes=09&bacia=&albuf=\",\n",
    "\"https://snirh.apambiente.pt/snirh/_dadossintese/albufeiras/tabelas/tabelageral.php?albuftblgeralopcao=2&percOUvolum=2&anohi=2013&mes=09&bacia=&albuf=\",\n",
    "\"https://snirh.apambiente.pt/snirh/_dadossintese/albufeiras/tabelas/tabelageral.php?albuftblgeralopcao=2&percOUvolum=2&anohi=2012&mes=09&bacia=&albuf=\",\n",
    "\"https://snirh.apambiente.pt/snirh/_dadossintese/albufeiras/tabelas/tabelageral.php?albuftblgeralopcao=2&percOUvolum=2&anohi=2011&mes=09&bacia=&albuf=\",\n",
    "\"https://snirh.apambiente.pt/snirh/_dadossintese/albufeiras/tabelas/tabelageral.php?albuftblgeralopcao=2&percOUvolum=2&anohi=2010&mes=09&bacia=&albuf=\",\n",
    "\"https://snirh.apambiente.pt/snirh/_dadossintese/albufeiras/tabelas/tabelageral.php?albuftblgeralopcao=2&percOUvolum=2&anohi=2009&mes=09&bacia=&albuf=\",\n",
    "\"https://snirh.apambiente.pt/snirh/_dadossintese/albufeiras/tabelas/tabelageral.php?albuftblgeralopcao=2&percOUvolum=2&anohi=2008&mes=09&bacia=&albuf=\",\n",
    "\"https://snirh.apambiente.pt/snirh/_dadossintese/albufeiras/tabelas/tabelageral.php?albuftblgeralopcao=2&percOUvolum=2&anohi=2007&mes=09&bacia=&albuf=\",\n",
    "\"https://snirh.apambiente.pt/snirh/_dadossintese/albufeiras/tabelas/tabelageral.php?albuftblgeralopcao=2&percOUvolum=2&anohi=2006&mes=09&bacia=&albuf=\",\n",
    "\"https://snirh.apambiente.pt/snirh/_dadossintese/albufeiras/tabelas/tabelageral.php?albuftblgeralopcao=2&percOUvolum=2&anohi=2005&mes=09&bacia=&albuf=\",\n",
    "\"https://snirh.apambiente.pt/snirh/_dadossintese/albufeiras/tabelas/tabelageral.php?albuftblgeralopcao=2&percOUvolum=2&anohi=2004&mes=09&bacia=&albuf=\",\n",
    "\"https://snirh.apambiente.pt/snirh/_dadossintese/albufeiras/tabelas/tabelageral.php?albuftblgeralopcao=2&percOUvolum=2&anohi=2003&mes=09&bacia=&albuf=\",\n",
    "\"https://snirh.apambiente.pt/snirh/_dadossintese/albufeiras/tabelas/tabelageral.php?albuftblgeralopcao=2&percOUvolum=2&anohi=2002&mes=09&bacia=&albuf=\",\n",
    "\"https://snirh.apambiente.pt/snirh/_dadossintese/albufeiras/tabelas/tabelageral.php?albuftblgeralopcao=2&percOUvolum=2&anohi=2001&mes=09&bacia=&albuf=\",\n",
    "\"https://snirh.apambiente.pt/snirh/_dadossintese/albufeiras/tabelas/tabelageral.php?albuftblgeralopcao=2&percOUvolum=2&anohi=2000&mes=09&bacia=&albuf=\"\n",
    "]"
   ]
  },
  {
   "cell_type": "code",
   "execution_count": 212,
   "id": "7b6332f7",
   "metadata": {},
   "outputs": [],
   "source": [
    "link_detalhe_por_bacia_pct = [\"https://snirh.apambiente.pt/snirh/_dadossintese/albufeiras/tabelas/tabelageral.php?albuftblgeralopcao=3&percOUvolum=1&anohi=2021&mes=09&bacia=&albuf=\",\n",
    "\"https://snirh.apambiente.pt/snirh/_dadossintese/albufeiras/tabelas/tabelageral.php?albuftblgeralopcao=3&percOUvolum=1&anohi=2020&mes=09&bacia=&albuf=\",\n",
    "\"https://snirh.apambiente.pt/snirh/_dadossintese/albufeiras/tabelas/tabelageral.php?albuftblgeralopcao=3&percOUvolum=1&anohi=2019&mes=09&bacia=&albuf=\",\n",
    "\"https://snirh.apambiente.pt/snirh/_dadossintese/albufeiras/tabelas/tabelageral.php?albuftblgeralopcao=3&percOUvolum=1&anohi=2018&mes=09&bacia=&albuf=\",\n",
    "\"https://snirh.apambiente.pt/snirh/_dadossintese/albufeiras/tabelas/tabelageral.php?albuftblgeralopcao=3&percOUvolum=1&anohi=2017&mes=09&bacia=&albuf=\",\n",
    "\"https://snirh.apambiente.pt/snirh/_dadossintese/albufeiras/tabelas/tabelageral.php?albuftblgeralopcao=3&percOUvolum=1&anohi=2016&mes=09&bacia=&albuf=\",\n",
    "\"https://snirh.apambiente.pt/snirh/_dadossintese/albufeiras/tabelas/tabelageral.php?albuftblgeralopcao=3&percOUvolum=1&anohi=2015&mes=09&bacia=&albuf=\",\n",
    "\"https://snirh.apambiente.pt/snirh/_dadossintese/albufeiras/tabelas/tabelageral.php?albuftblgeralopcao=3&percOUvolum=1&anohi=2014&mes=09&bacia=&albuf=\",\n",
    "\"https://snirh.apambiente.pt/snirh/_dadossintese/albufeiras/tabelas/tabelageral.php?albuftblgeralopcao=3&percOUvolum=1&anohi=2013&mes=09&bacia=&albuf=\",\n",
    "\"https://snirh.apambiente.pt/snirh/_dadossintese/albufeiras/tabelas/tabelageral.php?albuftblgeralopcao=3&percOUvolum=1&anohi=2012&mes=09&bacia=&albuf=\",\n",
    "\"https://snirh.apambiente.pt/snirh/_dadossintese/albufeiras/tabelas/tabelageral.php?albuftblgeralopcao=3&percOUvolum=1&anohi=2011&mes=09&bacia=&albuf=\",\n",
    "\"https://snirh.apambiente.pt/snirh/_dadossintese/albufeiras/tabelas/tabelageral.php?albuftblgeralopcao=3&percOUvolum=1&anohi=2010&mes=09&bacia=&albuf=\",\n",
    "\"https://snirh.apambiente.pt/snirh/_dadossintese/albufeiras/tabelas/tabelageral.php?albuftblgeralopcao=3&percOUvolum=1&anohi=2009&mes=09&bacia=&albuf=\",\n",
    "\"https://snirh.apambiente.pt/snirh/_dadossintese/albufeiras/tabelas/tabelageral.php?albuftblgeralopcao=3&percOUvolum=1&anohi=2008&mes=09&bacia=&albuf=\",\n",
    "\"https://snirh.apambiente.pt/snirh/_dadossintese/albufeiras/tabelas/tabelageral.php?albuftblgeralopcao=3&percOUvolum=1&anohi=2007&mes=09&bacia=&albuf=\",\n",
    "\"https://snirh.apambiente.pt/snirh/_dadossintese/albufeiras/tabelas/tabelageral.php?albuftblgeralopcao=3&percOUvolum=1&anohi=2006&mes=09&bacia=&albuf=\",\n",
    "\"https://snirh.apambiente.pt/snirh/_dadossintese/albufeiras/tabelas/tabelageral.php?albuftblgeralopcao=3&percOUvolum=1&anohi=2005&mes=09&bacia=&albuf=\",\n",
    "\"https://snirh.apambiente.pt/snirh/_dadossintese/albufeiras/tabelas/tabelageral.php?albuftblgeralopcao=3&percOUvolum=1&anohi=2004&mes=09&bacia=&albuf=\",\n",
    "\"https://snirh.apambiente.pt/snirh/_dadossintese/albufeiras/tabelas/tabelageral.php?albuftblgeralopcao=3&percOUvolum=1&anohi=2003&mes=09&bacia=&albuf=\",\n",
    "\"https://snirh.apambiente.pt/snirh/_dadossintese/albufeiras/tabelas/tabelageral.php?albuftblgeralopcao=3&percOUvolum=1&anohi=2002&mes=09&bacia=&albuf=\",\n",
    "\"https://snirh.apambiente.pt/snirh/_dadossintese/albufeiras/tabelas/tabelageral.php?albuftblgeralopcao=3&percOUvolum=1&anohi=2001&mes=09&bacia=&albuf=\",\n",
    "\"https://snirh.apambiente.pt/snirh/_dadossintese/albufeiras/tabelas/tabelageral.php?albuftblgeralopcao=3&percOUvolum=1&anohi=2000&mes=09&bacia=&albuf=\"]"
   ]
  },
  {
   "cell_type": "code",
   "execution_count": 213,
   "id": "1a992c33",
   "metadata": {},
   "outputs": [],
   "source": [
    "link_detalhe_por_bacia_metro = [\"https://snirh.apambiente.pt/snirh/_dadossintese/albufeiras/tabelas/tabelageral.php?albuftblgeralopcao=3&percOUvolum=1&anohi=2021&mes=09&bacia=&albuf=\",\n",
    "\"https://snirh.apambiente.pt/snirh/_dadossintese/albufeiras/tabelas/tabelageral.php?albuftblgeralopcao=3&percOUvolum=1&anohi=2020&mes=09&bacia=&albuf=\",\n",
    "\"https://snirh.apambiente.pt/snirh/_dadossintese/albufeiras/tabelas/tabelageral.php?albuftblgeralopcao=3&percOUvolum=1&anohi=2019&mes=09&bacia=&albuf=\",\n",
    "\"https://snirh.apambiente.pt/snirh/_dadossintese/albufeiras/tabelas/tabelageral.php?albuftblgeralopcao=3&percOUvolum=1&anohi=2018&mes=09&bacia=&albuf=\",\n",
    "\"https://snirh.apambiente.pt/snirh/_dadossintese/albufeiras/tabelas/tabelageral.php?albuftblgeralopcao=3&percOUvolum=1&anohi=2017&mes=09&bacia=&albuf=\",\n",
    "\"https://snirh.apambiente.pt/snirh/_dadossintese/albufeiras/tabelas/tabelageral.php?albuftblgeralopcao=3&percOUvolum=1&anohi=2016&mes=09&bacia=&albuf=\",\n",
    "\"https://snirh.apambiente.pt/snirh/_dadossintese/albufeiras/tabelas/tabelageral.php?albuftblgeralopcao=3&percOUvolum=1&anohi=2015&mes=09&bacia=&albuf=\",\n",
    "\"https://snirh.apambiente.pt/snirh/_dadossintese/albufeiras/tabelas/tabelageral.php?albuftblgeralopcao=3&percOUvolum=1&anohi=2014&mes=09&bacia=&albuf=\",\n",
    "\"https://snirh.apambiente.pt/snirh/_dadossintese/albufeiras/tabelas/tabelageral.php?albuftblgeralopcao=3&percOUvolum=1&anohi=2013&mes=09&bacia=&albuf=\",\n",
    "\"https://snirh.apambiente.pt/snirh/_dadossintese/albufeiras/tabelas/tabelageral.php?albuftblgeralopcao=3&percOUvolum=1&anohi=2012&mes=09&bacia=&albuf=\",\n",
    "\"https://snirh.apambiente.pt/snirh/_dadossintese/albufeiras/tabelas/tabelageral.php?albuftblgeralopcao=3&percOUvolum=1&anohi=2011&mes=09&bacia=&albuf=\",\n",
    "\"https://snirh.apambiente.pt/snirh/_dadossintese/albufeiras/tabelas/tabelageral.php?albuftblgeralopcao=3&percOUvolum=1&anohi=2010&mes=09&bacia=&albuf=\",\n",
    "\"https://snirh.apambiente.pt/snirh/_dadossintese/albufeiras/tabelas/tabelageral.php?albuftblgeralopcao=3&percOUvolum=1&anohi=2009&mes=09&bacia=&albuf=\",\n",
    "\"https://snirh.apambiente.pt/snirh/_dadossintese/albufeiras/tabelas/tabelageral.php?albuftblgeralopcao=3&percOUvolum=1&anohi=2008&mes=09&bacia=&albuf=\",\n",
    "\"https://snirh.apambiente.pt/snirh/_dadossintese/albufeiras/tabelas/tabelageral.php?albuftblgeralopcao=3&percOUvolum=1&anohi=2007&mes=09&bacia=&albuf=\",\n",
    "\"https://snirh.apambiente.pt/snirh/_dadossintese/albufeiras/tabelas/tabelageral.php?albuftblgeralopcao=3&percOUvolum=1&anohi=2006&mes=09&bacia=&albuf=\",\n",
    "\"https://snirh.apambiente.pt/snirh/_dadossintese/albufeiras/tabelas/tabelageral.php?albuftblgeralopcao=3&percOUvolum=1&anohi=2005&mes=09&bacia=&albuf=\",\n",
    "\"https://snirh.apambiente.pt/snirh/_dadossintese/albufeiras/tabelas/tabelageral.php?albuftblgeralopcao=3&percOUvolum=1&anohi=2004&mes=09&bacia=&albuf=\",\n",
    "\"https://snirh.apambiente.pt/snirh/_dadossintese/albufeiras/tabelas/tabelageral.php?albuftblgeralopcao=3&percOUvolum=1&anohi=2003&mes=09&bacia=&albuf=\",\n",
    "\"https://snirh.apambiente.pt/snirh/_dadossintese/albufeiras/tabelas/tabelageral.php?albuftblgeralopcao=3&percOUvolum=1&anohi=2002&mes=09&bacia=&albuf=\",\n",
    "\"https://snirh.apambiente.pt/snirh/_dadossintese/albufeiras/tabelas/tabelageral.php?albuftblgeralopcao=3&percOUvolum=1&anohi=2001&mes=09&bacia=&albuf=\",\n",
    "\"https://snirh.apambiente.pt/snirh/_dadossintese/albufeiras/tabelas/tabelageral.php?albuftblgeralopcao=3&percOUvolum=1&anohi=2000&mes=09&bacia=&albuf=\"]"
   ]
  },
  {
   "cell_type": "code",
   "execution_count": 230,
   "id": "a19b7ac1",
   "metadata": {},
   "outputs": [],
   "source": [
    "def transformar_bacias(link_list, metric):\n",
    "    list_ = [];\n",
    "    for index,link in enumerate(link_list):\n",
    "      html_table = pd.read_html(link, header=None)\n",
    "      pandas_table = html_table[0]\n",
    "      pandas_table.columns = pandas_table.iloc[0]\n",
    "      reset_table = pandas_table[1:]\n",
    "      if (index == 0):\n",
    "         clean_reset_table = pd.DataFrame(reset_table, index = [14, 15,16,17, 18, 19, 20, 21, 22, 23, 24,25,26,27,28,29,30])\n",
    "      else:\n",
    "         clean_reset_table = pd.DataFrame(reset_table, index = [14, 15,16,17, 18, 19, 20, 21, 22, 23, 24])\n",
    "      list_.append(clean_reset_table)\n",
    "    concat_list = pd.concat(list_).reset_index().drop([\"index\"], axis=1)\n",
    "    s = pd.Series(concat_list.columns)\n",
    "    s = s.fillna('unnamed:' + (s.groupby(s.isnull()).cumcount() + 1).astype(str))\n",
    "    concat_list.columns = s\n",
    "    concat_list = concat_list.rename(columns={\"unnamed:1\": \"Ano\", \"unnamed:2\": \"Mês\"})\n",
    "    final_resumo_por_bacia = pd.melt(concat_list, id_vars=['Ano', 'Mês'], value_vars=['ARADE', 'AVE', 'CÁVADO/RIBEIRAS COSTEIRAS', 'DOURO',\n",
    "           'GUADIANA', 'LIMA', 'MIRA', 'MONDEGO', 'RIBEIRAS DO ALGARVE',\n",
    "           'RIBEIRAS DO OESTE', 'SADO', 'TEJO'], var_name=\"nome_infraestrutura\",value_name='resumo_infraestrutura')\n",
    "    \n",
    "    final_resumo_por_bacia[\"Ano\"] = final_resumo_por_bacia[\"Ano\"].str.replace(\"\\([^)]*\\)\", \"\")\n",
    "    final_resumo_por_bacia[[\"Ano 1\", \"Ano 2\"]] = final_resumo_por_bacia[\"Ano\"].str.split(\"/\", expand=True)\n",
    "    final_resumo_por_bacia['Ano 2'] = \"20\" + final_resumo_por_bacia['Ano 2'].astype(str)\n",
    "    final_resumo_por_bacia[\"Ano Final\"] = np.where((final_resumo_por_bacia[\"Mês\"] == \"OUT\") | (final_resumo_por_bacia[\"Mês\"] == \"NOV\") |(final_resumo_por_bacia[\"Mês\"] == \"DEZ\"), final_resumo_por_bacia[\"Ano 1\"], final_resumo_por_bacia[\"Ano 2\"])\n",
    "    final_resumo_por_bacia[\"Mês\"] = final_resumo_por_bacia[\"Mês\"].apply(lambda x: d[x]).astype(str)\n",
    "    final_resumo_por_bacia[\"data\"] = \"01/\" + final_resumo_por_bacia[\"Mês\"] + \"/\" + final_resumo_por_bacia[\"Ano Final\"]\n",
    "    final_resumo_por_bacia['data']= pd.to_datetime(final_resumo_por_bacia['data'], dayfirst=True)\n",
    "    final_resumo_por_bacia[\"resumo_infraestrutura\"] = final_resumo_por_bacia[\"resumo_infraestrutura\"].str.replace(' ', '')\n",
    "    final_resumo_por_bacia[\"tipo_de_infraestrutura\"] = \"bacia\"\n",
    "    final_resumo_por_bacia.drop([\"Ano\", \"Mês\", \"Ano 1\", \"Ano 2\", \"Ano Final\"], axis=1, inplace=True)\n",
    "    if metric == \"pct\":\n",
    "        final_resumo_por_bacia[\"medida\"] = \"percentagem\"\n",
    "    if metric == \"metro_cubico\": \n",
    "        final_resumo_por_bacia[\"medida\"] = \"metro_cubico\"\n",
    "    return final_resumo_por_bacia"
   ]
  },
  {
   "cell_type": "code",
   "execution_count": 231,
   "id": "7850d102",
   "metadata": {},
   "outputs": [
    {
     "name": "stderr",
     "output_type": "stream",
     "text": [
      "/Users/rita/anaconda3/envs/altairpy37/lib/python3.7/site-packages/ipykernel_launcher.py:22: FutureWarning: The default value of regex will change from True to False in a future version.\n"
     ]
    }
   ],
   "source": [
    "bacias_pct = transformar_bacias(links_resumo_por_bacia_pct, \"pct\")"
   ]
  },
  {
   "cell_type": "code",
   "execution_count": 232,
   "id": "9a500385",
   "metadata": {},
   "outputs": [
    {
     "name": "stderr",
     "output_type": "stream",
     "text": [
      "/Users/rita/anaconda3/envs/altairpy37/lib/python3.7/site-packages/ipykernel_launcher.py:22: FutureWarning: The default value of regex will change from True to False in a future version.\n"
     ]
    }
   ],
   "source": [
    "bacias_metro = transformar_bacias(links_resumo_por_bacia_metro, \"metro_cubico\")"
   ]
  },
  {
   "cell_type": "code",
   "execution_count": null,
   "id": "aff493c1",
   "metadata": {},
   "outputs": [],
   "source": []
  },
  {
   "cell_type": "code",
   "execution_count": null,
   "id": "addfc654",
   "metadata": {},
   "outputs": [],
   "source": []
  },
  {
   "cell_type": "code",
   "execution_count": null,
   "id": "04da1fea",
   "metadata": {},
   "outputs": [],
   "source": []
  },
  {
   "cell_type": "code",
   "execution_count": 265,
   "id": "bbf532ec",
   "metadata": {},
   "outputs": [],
   "source": [
    "bacias = ['ARADE', 'AVE', 'CÁVADO/RIBEIRAS COSTEIRAS', 'DOURO',\n",
    "           'GUADIANA', 'LIMA', 'MIRA', 'MONDEGO', 'RIBEIRAS DO ALGARVE',\n",
    "           'RIBEIRAS DO OESTE', 'SADO', 'TEJO']\n",
    "columns_on_first_df = [0,1,2,3,4,5,6,7,8,9,10,11,30,31,32,33,34,35]\n",
    "columns_on_other_df = [0,1,2,3,4,5,6,7,8,9,10,11,24,25,26,27,28,29,30,31,32,33,34,35]\n",
    "d={\"JAN\":1, \"FEV\":2,\"MAR\":3,\"ABR\":4, \"MAI\":5, \"JUN\":6,\"JUL\":7,\"AGO\":8,\"SET\":9,\"OUT\":10, \"NOV\":11,\"DEZ\":12}\n",
    "\n",
    "def transfomar_bacias_detalhe(link_list, metric):\n",
    "    list_ = [];\n",
    "    for index,link in enumerate(link_list):\n",
    "      html_table = pd.read_html(link, header=None)\n",
    "      single_list = [];\n",
    "      for i,a in enumerate(html_table):\n",
    "          pandas_table = html_table[i]\n",
    "          if( i == 0):\n",
    "            pandas_table.columns = pandas_table.iloc[0]\n",
    "            reset_table = pandas_table[1:]\n",
    "            clean_reset_table = pd.DataFrame(reset_table)\n",
    "            clean_reset_table = clean_reset_table\n",
    "          else:\n",
    "            pandas_table.columns = pandas_table.iloc[0]\n",
    "            reset_table = pandas_table[2:]\n",
    "            clean_reset_table = pd.DataFrame(reset_table)\n",
    "            clean_reset_table = clean_reset_table\n",
    "          #reset_table[\"Bacias\"] = bacias[i]\n",
    "          single_list.append(clean_reset_table)\n",
    "      #print(single_list[1:])\n",
    "      single_list = (pd.concat(single_list)).T\n",
    "      single_list, single_list.columns = single_list[1:] , single_list.iloc[0]\n",
    "      single_list = single_list.reset_index()\n",
    "      if (index == 0):\n",
    "        single_list.drop(columns_on_first_df, axis=0, inplace=True)\n",
    "      else:\n",
    "        single_list.drop(columns_on_other_df, axis=0, inplace=True)\n",
    "      single_list.columns = single_list.columns.str.replace(\"\\([^)]*\\)\", \"\")\n",
    "      single_list = single_list.rename(columns={np.nan: 'Ano', \"Albufeiras\": \"Mês\"})\n",
    "      melted_single_list = pd.melt(single_list,id_vars=['Ano', 'Mês'], var_name=\"nome_infraestrutura\",value_name='resumo_infraestrutura')\n",
    "      list_.append(pd.DataFrame(melted_single_list).reset_index()) \n",
    "    detalhe_por_bacia_pct = pd.concat(list_, axis=0)\n",
    "    detalhe_por_bacia_pct[\"Ano\"] = detalhe_por_bacia_pct[\"Ano\"].str.replace(\"\\([^)]*\\)\", \"\")\n",
    "    detalhe_por_bacia_pct[[\"Ano 1\", \"Ano 2\"]] = detalhe_por_bacia_pct[\"Ano\"].str.split(\"/\", expand=True)\n",
    "    detalhe_por_bacia_pct['Ano 2'] = \"20\" + detalhe_por_bacia_pct['Ano 2'].astype(str)\n",
    "    detalhe_por_bacia_pct[\"Ano Final\"] = np.where((detalhe_por_bacia_pct[\"Mês\"] == \"OUT\") | (detalhe_por_bacia_pct[\"Mês\"] == \"NOV\") |(detalhe_por_bacia_pct[\"Mês\"] == \"DEZ\"), detalhe_por_bacia_pct[\"Ano 1\"], detalhe_por_bacia_pct[\"Ano 2\"])\n",
    "    detalhe_por_bacia_pct[\"Mês\"] = detalhe_por_bacia_pct[\"Mês\"].apply(lambda x: d[x]).astype(str)\n",
    "    detalhe_por_bacia_pct[\"data\"] = \"01/\" + detalhe_por_bacia_pct[\"Mês\"] + \"/\" + detalhe_por_bacia_pct[\"Ano Final\"]\n",
    "    detalhe_por_bacia_pct['data']= pd.to_datetime(detalhe_por_bacia_pct['data'], dayfirst=True)\n",
    "    detalhe_por_bacia_pct[\"resumo_infraestrutura\"] = detalhe_por_bacia_pct[\"resumo_infraestrutura\"].str.replace(' ', '')\n",
    "    detalhe_por_bacia_pct[\"tipo_de_infraestrutura\"] = \"albufeira\"\n",
    "    detalhe_por_bacia_pct.drop([\"Ano\", \"Mês\", \"Ano 1\", \"Ano 2\", \"Ano Final\"], axis=1, inplace=True)\n",
    "    if metric == \"pct\":\n",
    "        detalhe_por_bacia_pct[\"medida\"] = \"percentagem\"\n",
    "    if metric == \"metro_cubico\": \n",
    "        detalhe_por_bacia_pct[\"medida\"] = \"metro_cubico\"\n",
    "    return detalhe_por_bacia_pct.drop(columns=[\"index\"])\n",
    "\n",
    "#.drop(clean_reset_table.columns[columns_on_first_df], axis=1)\n",
    "#.drop(clean_reset_table.columns[columns_on_other_df], axis=1)"
   ]
  },
  {
   "cell_type": "code",
   "execution_count": 266,
   "id": "97bd9d9a",
   "metadata": {},
   "outputs": [
    {
     "name": "stderr",
     "output_type": "stream",
     "text": [
      "/Users/rita/anaconda3/envs/altairpy37/lib/python3.7/site-packages/ipykernel_launcher.py:35: FutureWarning: The default value of regex will change from True to False in a future version.\n",
      "/Users/rita/anaconda3/envs/altairpy37/lib/python3.7/site-packages/ipykernel_launcher.py:40: FutureWarning: The default value of regex will change from True to False in a future version.\n"
     ]
    }
   ],
   "source": [
    "detalhe_por_bacia_pct = transfomar_bacias_detalhe(link_detalhe_por_bacia_pct, \"pct\")"
   ]
  },
  {
   "cell_type": "code",
   "execution_count": 267,
   "id": "865305a9",
   "metadata": {},
   "outputs": [
    {
     "name": "stderr",
     "output_type": "stream",
     "text": [
      "/Users/rita/anaconda3/envs/altairpy37/lib/python3.7/site-packages/ipykernel_launcher.py:35: FutureWarning: The default value of regex will change from True to False in a future version.\n",
      "/Users/rita/anaconda3/envs/altairpy37/lib/python3.7/site-packages/ipykernel_launcher.py:40: FutureWarning: The default value of regex will change from True to False in a future version.\n"
     ]
    }
   ],
   "source": [
    "detalhe_por_bacia_metro = transfomar_bacias_detalhe(link_detalhe_por_bacia_metro, \"metro_cubico\")"
   ]
  },
  {
   "cell_type": "code",
   "execution_count": 268,
   "id": "61aa9c6b",
   "metadata": {},
   "outputs": [],
   "source": [
    "clean_global = pd.concat([bacias_metro, bacias_pct, detalhe_por_bacia_pct, detalhe_por_bacia_metro]).reset_index().drop(columns=[\"index\"])\n",
    "\n",
    "\n"
   ]
  },
  {
   "cell_type": "code",
   "execution_count": 269,
   "id": "f69eba56",
   "metadata": {},
   "outputs": [],
   "source": [
    "clean_global.to_csv(\"snirh_clean.csv\")"
   ]
  }
 ],
 "metadata": {
  "kernelspec": {
   "display_name": "Python 3",
   "language": "python",
   "name": "python3"
  },
  "language_info": {
   "codemirror_mode": {
    "name": "ipython",
    "version": 3
   },
   "file_extension": ".py",
   "mimetype": "text/x-python",
   "name": "python",
   "nbconvert_exporter": "python",
   "pygments_lexer": "ipython3",
   "version": "3.8.5"
  }
 },
 "nbformat": 4,
 "nbformat_minor": 5
}
